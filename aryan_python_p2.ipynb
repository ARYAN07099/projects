{
 "cells": [
  {
   "cell_type": "code",
   "execution_count": 7,
   "id": "1088cb44",
   "metadata": {},
   "outputs": [],
   "source": [
    "\n",
    "students=[]\n",
    "def admit_student():\n",
    "    n = input(\"Enter student name: \")\n",
    "    roll_no = input(\"Enter student roll number: \")\n",
    "    m1 = float(input(\"Enter marks for math: \"))\n",
    "    m2 = float(input(\"Enter marks for science: \"))\n",
    "\n",
    "    student = {\n",
    "        \"student_name\": n,\n",
    "        \"student_roll_number\": roll_no,\n",
    "        \"subject_1_marks\": m1,\n",
    "        \"subject_2_marks\": m2\n",
    "    }\n",
    "\n",
    "    students.append(student)\n",
    "    print(\"data accepted.\")\n",
    "\n",
    "def show_student_data():\n",
    "    if not students:\n",
    "        print(\"No data available !!\")\n",
    "        return\n",
    "\n",
    "    print(\"Student Data:\")\n",
    "    for student in students:\n",
    "        print(\"Name:\", student[\"student_name\"])\n",
    "        print(\"Roll Number:\", student[\"student_roll_number\"])\n",
    "        print(\"Marks_1:\", student[\"subject_1_marks\"])\n",
    "        print(\"Marks_2:\", student[\"subject_2_marks\"])\n",
    "        print()\n",
    "\n",
    "def  find_by_name(name):\n",
    "    found_students = []\n",
    "    for student in students:\n",
    "        if student[\"student_name\"].lower() == name.lower():\n",
    "            found_students.append(student)\n",
    "\n",
    "    if not found_students:\n",
    "        print(\"No student found !!\")\n",
    "        return\n",
    "\n",
    "    print(\"Student(s) Found:\")\n",
    "    for student in found_students:\n",
    "        print(\"Name:\", student[\"student_name\"])\n",
    "        print(\"Roll_Number:\", student[\"student_roll_number\"])\n",
    "        print(\"Marks_1:\", student[\"subject_1_marks\"])\n",
    "        print(\"Marks_2:\", student[\"subject_2_marks\"])\n",
    "        print()\n",
    "\n",
    "def delete_data(roll_number):\n",
    "    for student in students:\n",
    "        if student[\"student_roll_number\"] == roll_number:\n",
    "            students.remove(student)\n",
    "            print(\"Data deleted successfully.\")\n",
    "            return\n",
    "\n",
    "    print(\"Sorry, No student found !!\")\n",
    "\n",
    "def update_info(roll_number):\n",
    "    for student in students:\n",
    "        if student[\"student_roll_number\"] == roll_number:\n",
    "            print(\"Enter updated details for the student:\")\n",
    "            student[\"student_name\"] = input(\"Enter updated name: \")\n",
    "            student[\"student_roll_number\"] = input(\"Enter updated roll number: \")\n",
    "            student[\"subject_1_marks\"] = float(input(\"Enter updated marks for math: \"))\n",
    "            student[\"subject_2_marks\"] = float(input(\"Enter updated marks for science: \"))\n",
    "            print(\"Data updated successfully.\")\n",
    "            return\n",
    "\n",
    "    print(\"Sorry, provide the valid roll_no.\")\n",
    " "
   ]
  },
  {
   "cell_type": "code",
   "execution_count": 9,
   "id": "1ca78618",
   "metadata": {},
   "outputs": [
    {
     "name": "stdout",
     "output_type": "stream",
     "text": [
      "Enter student name: aryan pradhan\n",
      "Enter student roll number: 789\n",
      "Enter marks for math: 85\n",
      "Enter marks for science: 96\n",
      "Student data accepted.\n"
     ]
    }
   ],
   "source": [
    "add_student()"
   ]
  },
  {
   "cell_type": "code",
   "execution_count": 10,
   "id": "5ba54f28",
   "metadata": {},
   "outputs": [
    {
     "name": "stdout",
     "output_type": "stream",
     "text": [
      "Enter student name: pukun sahoo\n",
      "Enter student roll number: 786\n",
      "Enter marks for math: 75\n",
      "Enter marks for science: 85\n",
      "Student data accepted.\n"
     ]
    }
   ],
   "source": [
    "add_student()"
   ]
  },
  {
   "cell_type": "code",
   "execution_count": 11,
   "id": "e118d4e8",
   "metadata": {},
   "outputs": [
    {
     "name": "stdout",
     "output_type": "stream",
     "text": [
      "Enter student name: ashok dash\n",
      "Enter student roll number: 895\n",
      "Enter marks for math: 89\n",
      "Enter marks for science: 95\n",
      "Student data accepted.\n"
     ]
    }
   ],
   "source": [
    "add_student()"
   ]
  },
  {
   "cell_type": "code",
   "execution_count": 12,
   "id": "90d26aa4",
   "metadata": {},
   "outputs": [
    {
     "name": "stdout",
     "output_type": "stream",
     "text": [
      "Enter student name: subhamjit sahoo\n",
      "Enter student roll number: 800\n",
      "Enter marks for math: 79\n",
      "Enter marks for science: 78\n",
      "Student data accepted.\n"
     ]
    }
   ],
   "source": [
    "add_student()"
   ]
  },
  {
   "cell_type": "code",
   "execution_count": 13,
   "id": "4a222924",
   "metadata": {},
   "outputs": [
    {
     "name": "stdout",
     "output_type": "stream",
     "text": [
      "Enter student name: nikhil behera\n",
      "Enter student roll number: 801\n",
      "Enter marks for math: 95\n",
      "Enter marks for science: 99\n",
      "Student data accepted.\n"
     ]
    }
   ],
   "source": [
    "add_student()"
   ]
  },
  {
   "cell_type": "code",
   "execution_count": 14,
   "id": "fb4dbeba",
   "metadata": {},
   "outputs": [
    {
     "name": "stdout",
     "output_type": "stream",
     "text": [
      "Student Data:\n",
      "Name: aryan pradhan\n",
      "Roll Number: 789\n",
      "Marks_1: 85.0\n",
      "Marks_2: 96.0\n",
      "\n",
      "Name: pukun sahoo\n",
      "Roll Number: 786\n",
      "Marks_1: 75.0\n",
      "Marks_2: 85.0\n",
      "\n",
      "Name: ashok dash\n",
      "Roll Number: 895\n",
      "Marks_1: 89.0\n",
      "Marks_2: 95.0\n",
      "\n",
      "Name: subhamjit sahoo\n",
      "Roll Number: 800\n",
      "Marks_1: 79.0\n",
      "Marks_2: 78.0\n",
      "\n",
      "Name: nikhil behera\n",
      "Roll Number: 801\n",
      "Marks_1: 95.0\n",
      "Marks_2: 99.0\n",
      "\n"
     ]
    }
   ],
   "source": [
    "show_student_data()"
   ]
  },
  {
   "cell_type": "code",
   "execution_count": 16,
   "id": "8699766f",
   "metadata": {},
   "outputs": [
    {
     "name": "stdout",
     "output_type": "stream",
     "text": [
      "Student(s) Found:\n",
      "Name: aryan pradhan\n",
      "Roll_Number: 789\n",
      "Marks_1: 85.0\n",
      "Marks_2: 96.0\n",
      "\n"
     ]
    }
   ],
   "source": [
    "find_by_name(\"aryan pradhan\")"
   ]
  },
  {
   "cell_type": "code",
   "execution_count": 17,
   "id": "49443e6f",
   "metadata": {},
   "outputs": [
    {
     "name": "stdout",
     "output_type": "stream",
     "text": [
      "Data deleted successfully.\n"
     ]
    }
   ],
   "source": [
    "delete_data(\"800\")"
   ]
  },
  {
   "cell_type": "code",
   "execution_count": 18,
   "id": "991c00ef",
   "metadata": {},
   "outputs": [
    {
     "name": "stdout",
     "output_type": "stream",
     "text": [
      "Student Data:\n",
      "Name: aryan pradhan\n",
      "Roll Number: 789\n",
      "Marks_1: 85.0\n",
      "Marks_2: 96.0\n",
      "\n",
      "Name: pukun sahoo\n",
      "Roll Number: 786\n",
      "Marks_1: 75.0\n",
      "Marks_2: 85.0\n",
      "\n",
      "Name: ashok dash\n",
      "Roll Number: 895\n",
      "Marks_1: 89.0\n",
      "Marks_2: 95.0\n",
      "\n",
      "Name: nikhil behera\n",
      "Roll Number: 801\n",
      "Marks_1: 95.0\n",
      "Marks_2: 99.0\n",
      "\n"
     ]
    }
   ],
   "source": [
    "show_student_data()"
   ]
  },
  {
   "cell_type": "code",
   "execution_count": 20,
   "id": "58a6912d",
   "metadata": {},
   "outputs": [
    {
     "name": "stdout",
     "output_type": "stream",
     "text": [
      "Enter updated details for the student:\n",
      "Enter updated name: nikhil kumar behera\n",
      "Enter updated roll number: 801\n",
      "Enter updated marks for math: 95\n",
      "Enter updated marks for science: 99\n",
      "Data updated successfully.\n"
     ]
    }
   ],
   "source": [
    "update_info(\"801\")"
   ]
  },
  {
   "cell_type": "code",
   "execution_count": 21,
   "id": "5446b451",
   "metadata": {},
   "outputs": [
    {
     "name": "stdout",
     "output_type": "stream",
     "text": [
      "Student Data:\n",
      "Name: aryan pradhan\n",
      "Roll Number: 789\n",
      "Marks_1: 85.0\n",
      "Marks_2: 96.0\n",
      "\n",
      "Name: pukun sahoo\n",
      "Roll Number: 786\n",
      "Marks_1: 75.0\n",
      "Marks_2: 85.0\n",
      "\n",
      "Name: ashok dash\n",
      "Roll Number: 895\n",
      "Marks_1: 89.0\n",
      "Marks_2: 95.0\n",
      "\n",
      "Name: nikhil kumar behera\n",
      "Roll Number: 801\n",
      "Marks_1: 95.0\n",
      "Marks_2: 99.0\n",
      "\n"
     ]
    }
   ],
   "source": [
    "show_student_data()"
   ]
  },
  {
   "cell_type": "code",
   "execution_count": null,
   "id": "9c4c8e88",
   "metadata": {},
   "outputs": [],
   "source": []
  }
 ],
 "metadata": {
  "kernelspec": {
   "display_name": "Python 3 (ipykernel)",
   "language": "python",
   "name": "python3"
  },
  "language_info": {
   "codemirror_mode": {
    "name": "ipython",
    "version": 3
   },
   "file_extension": ".py",
   "mimetype": "text/x-python",
   "name": "python",
   "nbconvert_exporter": "python",
   "pygments_lexer": "ipython3",
   "version": "3.10.5"
  }
 },
 "nbformat": 4,
 "nbformat_minor": 5
}
